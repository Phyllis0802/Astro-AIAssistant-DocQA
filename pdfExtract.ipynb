{
 "cells": [
  {
   "cell_type": "code",
   "execution_count": 1,
   "metadata": {},
   "outputs": [
    {
     "name": "stderr",
     "output_type": "stream",
     "text": [
      "Downloading: 100%|██████████| 857/857 [00:00<00:00, 3.07kB/s]\n",
      "Downloading: 100%|██████████| 4.80k/4.80k [00:00<00:00, 12.5kB/s]\n",
      "Downloading: 100%|██████████| 538M/538M [01:02<00:00, 9.00MB/s] \n",
      "Downloading: 100%|██████████| 617/617 [00:00<00:00, 2.27kB/s]\n",
      "Downloading: 100%|██████████| 3.49G/3.49G [06:11<00:00, 10.1MB/s]\n",
      "Downloading: 100%|██████████| 28.0/28.0 [00:00<00:00, 34.0B/s]\n",
      "Downloading: 100%|██████████| 233/233 [00:00<00:00, 603B/s]\n",
      "Downloading: 100%|██████████| 433/433 [00:00<00:00, 1.70kB/s]\n",
      "Downloading: 100%|██████████| 2.04M/2.04M [00:00<00:00, 3.64MB/s]\n",
      "Downloading: 100%|██████████| 4.39k/4.39k [00:00<00:00, 17.5kB/s]\n",
      "Downloading: 100%|██████████| 334M/334M [00:43<00:00, 7.96MB/s] \n"
     ]
    }
   ],
   "source": [
    "from modelscope import snapshot_download\n",
    "model_dir = snapshot_download('wanderkid/PDF-Extract-Kit')"
   ]
  },
  {
   "cell_type": "code",
   "execution_count": null,
   "metadata": {},
   "outputs": [],
   "source": []
  }
 ],
 "metadata": {
  "kernelspec": {
   "display_name": "dev",
   "language": "python",
   "name": "python3"
  },
  "language_info": {
   "codemirror_mode": {
    "name": "ipython",
    "version": 3
   },
   "file_extension": ".py",
   "mimetype": "text/x-python",
   "name": "python",
   "nbconvert_exporter": "python",
   "pygments_lexer": "ipython3",
   "version": "3.10.14"
  }
 },
 "nbformat": 4,
 "nbformat_minor": 2
}
