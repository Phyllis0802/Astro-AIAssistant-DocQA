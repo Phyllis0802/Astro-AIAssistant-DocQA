{
 "cells": [
  {
   "cell_type": "code",
   "execution_count": 24,
   "id": "b5fc40cd-94db-4bc9-92a5-333151cfe639",
   "metadata": {},
   "outputs": [
    {
     "name": "stdout",
     "output_type": "stream",
     "text": [
      "所有文件已成功合并到 merged_file.txt\n"
     ]
    }
   ],
   "source": [
    "import glob\n",
    "\n",
    "# 目标文件名\n",
    "output_file = \"merged_file.txt\"\n",
    "\n",
    "# 获取所有以 new_file_ 开头的 .txt 文件\n",
    "file_list = glob.glob(\"new_file_*.txt\")\n",
    "\n",
    "# 初始化一个空列表来存储所有的 JSON 对象\n",
    "merged_data = []\n",
    "\n",
    "# 遍历每个文件并将内容合并到 merged_data 中\n",
    "for file_name in file_list:\n",
    "    with open(file_name, \"r\", encoding=\"utf-8\") as file:\n",
    "        content = file.read().strip()\n",
    "        # 去掉开头的 '''json[ 和结尾的 ]'''\n",
    "        if content.startswith(\"```json\\n[\"):\n",
    "            content = content[7:].strip()  # 去掉 '''json[\n",
    "        if content.endswith(\"]\\n```\"):\n",
    "            content = content[:-4].strip()  # 去掉 ]'''\n",
    "        elif content.endswith(\"]\"):\n",
    "            content = content[:-1].strip()  # 去掉 ]\n",
    "\n",
    "        # 确保去掉多余的大括号\n",
    "        if content.startswith(\"[\"):\n",
    "            content = content[1:].strip()\n",
    "        if content.endswith(\"]\"):\n",
    "            content = content[:-1].strip()\n",
    "\n",
    "        # 将每个文件的内容按 }, { 分割，并合并到 merged_data 列表中\n",
    "        json_objects = content.split(\"}, {\")\n",
    "        for i in range(len(json_objects)):\n",
    "            if i == 0:\n",
    "                if not json_objects[i].startswith(\"{\"):\n",
    "                    json_objects[i] = \"{\" + json_objects[i]\n",
    "            if i == len(json_objects) - 1:\n",
    "                if not json_objects[i].endswith(\"}\"):\n",
    "                    json_objects[i] = json_objects[i] + \"}\"\n",
    "            else:\n",
    "                json_objects[i] = \"{\" + json_objects[i] + \"}\"\n",
    "        merged_data.extend(json_objects)\n",
    "\n",
    "# 将合并后的数据写入到目标文件中\n",
    "with open(output_file, \"w\", encoding=\"utf-8\") as output:\n",
    "    output.write(\"[\\n\")\n",
    "    output.write(\",\\n\".join(merged_data))\n",
    "    output.write(\"\\n]\")\n",
    "\n",
    "print(f\"所有文件已成功合并到 {output_file}\")\n"
   ]
  },
  {
   "cell_type": "code",
   "execution_count": null,
   "id": "864026cf-3308-4174-856e-eedc83daace5",
   "metadata": {},
   "outputs": [],
   "source": [
    "import pandas as pd\n",
    "import numpy as np\n",
    "import re\n",
    "\n",
    "# 假设df是你的DataFrame\n",
    "df = pd.DataFrame({\n",
    "    'match_result': [\n",
    "        # ... 你的数据，每个元素都是一个字典，例如：\n",
    "        {'id': 'as-1ihuazbnqy', 'object': 'chat.completion', 'created': 1720164118, \n",
    "         'result': 'accuracy: 0.1\\n\\n解释：...'},\n",
    "        # ... 其他行\n",
    "    ]\n",
    "})\n",
    "\n",
    "# 自定义一个函数来解析'result'字段并提取accuracy值\n",
    "def extract_accuracy(match_result_dict):\n",
    "    result_str = match_result_dict.get('result', '')\n",
    "    # 使用正则表达式匹配各种格式的冒号后的数字\n",
    "    match = re.search(r'accuracy[\\s:：]+([0-9.]+)', result_str)\n",
    "    if match:\n",
    "        return float(match.group(1))  # 将匹配到的字符串转换为浮点数\n",
    "    else:\n",
    "        return np.nan  # 如果没有找到匹配项，返回np.nan\n",
    "\n",
    "# 应用自定义函数到'match_result'列，并创建一个新列'gpt_accuracy'\n",
    "df['gpt_accuracy'] = df['match_result'].apply(extract_accuracy)\n",
    "\n",
    "# 显示结果\n",
    "print(df)"
   ]
  }
 ],
 "metadata": {
  "kernelspec": {
   "display_name": "Python 3 (ipykernel)",
   "language": "python",
   "name": "python3"
  },
  "language_info": {
   "codemirror_mode": {
    "name": "ipython",
    "version": 3
   },
   "file_extension": ".py",
   "mimetype": "text/x-python",
   "name": "python",
   "nbconvert_exporter": "python",
   "pygments_lexer": "ipython3",
   "version": "3.8.19"
  }
 },
 "nbformat": 4,
 "nbformat_minor": 5
}
