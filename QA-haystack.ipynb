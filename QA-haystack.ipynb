{
 "cells": [
  {
   "cell_type": "code",
   "execution_count": 1,
   "id": "8cbccfb1-006d-406a-a2b5-474a779bacda",
   "metadata": {},
   "outputs": [
    {
     "name": "stderr",
     "output_type": "stream",
     "text": [
      "D:\\Downloads\\Anaconda\\envs\\new_env\\lib\\site-packages\\tqdm\\auto.py:21: TqdmWarning: IProgress not found. Please update jupyter and ipywidgets. See https://ipywidgets.readthedocs.io/en/stable/user_install.html\n",
      "  from .autonotebook import tqdm as notebook_tqdm\n"
     ]
    }
   ],
   "source": [
    "from haystack.document_stores import InMemoryDocumentStore\n",
    "from haystack.nodes import PDFToTextConverter, PreProcessor, FARMReader\n",
    "from haystack.pipelines import ExtractiveQAPipeline"
   ]
  },
  {
   "cell_type": "markdown",
   "id": "089e5724-065a-4f33-8273-f9b65e4099da",
   "metadata": {},
   "source": [
    "# 提取PDF文本 & 预处理文档"
   ]
  },
  {
   "cell_type": "code",
   "execution_count": 17,
   "id": "73c8bb4a-29ea-4c82-8ebb-678d91d3ec55",
   "metadata": {},
   "outputs": [
    {
     "name": "stderr",
     "output_type": "stream",
     "text": [
      "\n",
      "Preprocessing:   0%|                                                                           | 0/1 [00:00<?, ?docs/s]\u001b[AWe found one or more sentences whose split count is higher than the split length.\n",
      "\n",
      "Preprocessing: 100%|███████████████████████████████████████████████████████████████████| 1/1 [00:00<00:00,  2.47docs/s]\u001b[A\n"
     ]
    }
   ],
   "source": [
    "import fitz\n",
    "\n",
    "# 提取 PDF 文本的函数\n",
    "def extract_text_from_pdf(file_path):\n",
    "    doc = fitz.open(file_path)\n",
    "    text = \"\"\n",
    "    for page_num in range(len(doc)):\n",
    "        page = doc.load_page(page_num)\n",
    "        text += page.get_text()\n",
    "    return text\n",
    "\n",
    "# 提取PDF文本\n",
    "pdf_path = \"CSST科学白皮书_v1.2.pdf\"\n",
    "text = extract_text_from_pdf(pdf_path)\n",
    "documents = [{\"content\": text, \"meta\": {\"name\": \"CSST科学白皮书_v1.2.pdf\"}}]\n",
    "\n",
    "# 初始化 InMemoryDocumentStore\n",
    "document_store = InMemoryDocumentStore(use_bm25=True)\n",
    "\n",
    "#预处理文档\n",
    "preprocessor = PreProcessor(\n",
    "    clean_empty_lines=True,\n",
    "    clean_whitespace=True,\n",
    "    split_by=\"word\",\n",
    "    split_length=500,\n",
    "    split_respect_sentence_boundary=True,\n",
    "    split_overlap=50\n",
    ")\n",
    "documents = preprocessor.process(documents)\n"
   ]
  },
  {
   "cell_type": "markdown",
   "id": "6df4130b-daa7-432f-9e52-ca2ff8d274a9",
   "metadata": {},
   "source": [
    "# 文档写入，创建pipeline"
   ]
  },
  {
   "cell_type": "code",
   "execution_count": 19,
   "id": "2de572e9-fb0f-4d37-9491-2f2a8a912d62",
   "metadata": {},
   "outputs": [
    {
     "name": "stderr",
     "output_type": "stream",
     "text": [
      "Updating BM25 representation...: 100%|████████████████████████████████████████████| 52/52 [00:00<00:00, 2482.74 docs/s]\n"
     ]
    }
   ],
   "source": [
    "from haystack.nodes import BM25Retriever\n",
    "# 将文档写入 DocumentStore\n",
    "document_store.write_documents(documents)\n",
    "retriever = BM25Retriever(document_store=document_store)\n",
    "# 初始化 FARMReader，使用支持中文的预训练模型\n",
    "reader = FARMReader(model_name_or_path=\"deepset/roberta-base-squad2\")\n",
    "\n",
    "# 创建 ExtractiveQAPipeline\n",
    "pipeline = ExtractiveQAPipeline(reader, retriever)"
   ]
  },
  {
   "cell_type": "markdown",
   "id": "083b5f09-afd0-49cf-ab21-f6b6a14dc5c8",
   "metadata": {},
   "source": [
    "# 定义问题并生成答案"
   ]
  },
  {
   "cell_type": "code",
   "execution_count": 20,
   "id": "2d264b32-01bd-412a-8121-aac01252919c",
   "metadata": {},
   "outputs": [
    {
     "name": "stderr",
     "output_type": "stream",
     "text": [
      "Inferencing Samples: 100%|███████████████████████████████████████████████████████| 13/13 [05:13<00:00, 24.10s/ Batches]\n"
     ]
    },
    {
     "name": "stdout",
     "output_type": "stream",
     "text": [
      "Question: 积分视场光谱仪是什么？\n",
      "Answer: 如\n",
      "\n"
     ]
    },
    {
     "name": "stderr",
     "output_type": "stream",
     "text": [
      "Inferencing Samples: 100%|███████████████████████████████████████████████████████| 13/13 [05:08<00:00, 23.76s/ Batches]\n"
     ]
    },
    {
     "name": "stdout",
     "output_type": "stream",
     "text": [
      "Question: 多通道成像仪的研制单位是哪个？\n",
      "Answer: 其中\n",
      "\n"
     ]
    },
    {
     "name": "stderr",
     "output_type": "stream",
     "text": [
      "Inferencing Samples: 100%|███████████████████████████████████████████████████████| 13/13 [05:13<00:00, 24.13s/ Batches]"
     ]
    },
    {
     "name": "stdout",
     "output_type": "stream",
     "text": [
      "Question: 这篇文章发表于什么时候？这篇文章是哪个团队发表的？\n",
      "Answer: CSST\n",
      "\n"
     ]
    },
    {
     "name": "stderr",
     "output_type": "stream",
     "text": [
      "\n"
     ]
    }
   ],
   "source": [
    "# 定义问题并生成答案\n",
    "questions = [\n",
    "    \"积分视场光谱仪是什么？\",\n",
    "    \"多通道成像仪的研制单位是哪个？\",\n",
    "    \"这篇文章发表于什么时候？\",\n",
    "    \"这篇文章是哪个团队发表的？\"\n",
    "]\n",
    "\n",
    "# 生成问答对\n",
    "for question in questions:\n",
    "    prediction = pipeline.run(\n",
    "        query=question,\n",
    "        params={\n",
    "            \"Retriever\": {\"top_k\": 10},\n",
    "            \"Reader\": {\"top_k\": 5}\n",
    "        })\n",
    "    answers = prediction[\"answers\"]\n",
    "    if answers:\n",
    "        answer = answers[0].answer\n",
    "        print(f\"Question: {question}\\nAnswer: {answer}\\n\")\n",
    "    else:\n",
    "        print(f\"Question: {question}\\nAnswer: No answer found.\\n\")"
   ]
  },
  {
   "cell_type": "code",
   "execution_count": 1,
   "id": "9183ae40",
   "metadata": {},
   "outputs": [
    {
     "name": "stdout",
     "output_type": "stream",
     "text": [
      "x1: tensor([[[-0.9459,  0.5139, -0.8711,  0.2664],\n",
      "         [-0.2224,  0.0059,  1.3308, -0.1072],\n",
      "         [-1.5125, -0.0313, -0.6194,  0.7078]],\n",
      "\n",
      "        [[ 1.1933,  0.5164,  1.4111,  1.2338],\n",
      "         [-0.3656, -1.7279, -1.1973,  0.1795],\n",
      "         [-0.4460, -0.0504,  0.8660,  1.1754]]])\n",
      "x2: tensor([[[ 0.9100,  0.5204, -0.5425,  1.0211],\n",
      "         [-0.8083,  1.4383,  2.5470,  1.6260],\n",
      "         [ 0.2957, -0.9842,  0.1589,  0.6096],\n",
      "         [ 0.3994,  1.3025, -0.2180,  0.2563],\n",
      "         [ 0.5113, -0.6748, -0.4893,  0.3817]],\n",
      "\n",
      "        [[ 0.0955, -3.2458,  0.3186,  1.1472],\n",
      "         [ 0.7497, -0.5240,  0.6566,  0.5983],\n",
      "         [ 0.8276,  0.6803,  0.3474, -0.9442],\n",
      "         [ 1.2801,  0.1947,  0.2949, -2.2902],\n",
      "         [ 1.4130,  0.1630,  0.4990, -2.4176]]])\n"
     ]
    }
   ],
   "source": [
    "import torch\n",
    "import torch.nn.functional as F\n",
    "\n",
    "x1 = torch.randn(2, 3, 4)  #形状(batch_size, seq_len1, feature_dim)\n",
    "x2 = torch.randn(2, 5, 4)\n",
    "print(\"x1:\", x1)\n",
    "print(\"x2:\", x2)"
   ]
  },
  {
   "cell_type": "code",
   "execution_count": 2,
   "id": "229874a2",
   "metadata": {},
   "outputs": [
    {
     "name": "stdout",
     "output_type": "stream",
     "text": [
      "原始权重： tensor([[[ 0.1513, -0.2819, -0.7615,  0.5497, -0.3026],\n",
      "         [-1.0308,  3.4035,  0.0744, -0.3987, -0.8098],\n",
      "         [-0.3338,  0.7507, -0.0834, -0.3285, -0.1790]],\n",
      "\n",
      "        [[ 0.3030,  2.2887,  0.6642, -0.7813, -0.5085],\n",
      "         [ 5.3980, -0.0473, -2.0636, -1.5688, -1.8297],\n",
      "         [ 1.7452,  0.9638, -1.2123, -3.0172, -3.0479]]])\n"
     ]
    }
   ],
   "source": [
    "raw_weights = torch.bmm(x1, x2.transpose(1,2))\n",
    "print(\"原始权重：\", raw_weights)"
   ]
  },
  {
   "cell_type": "code",
   "execution_count": 3,
   "id": "e9cae92a",
   "metadata": {},
   "outputs": [
    {
     "name": "stdout",
     "output_type": "stream",
     "text": [
      "归一化后的注意力权重： tensor([[[2.3955e-01, 1.5534e-01, 9.6157e-02, 3.5679e-01, 1.5216e-01],\n",
      "         [1.0936e-02, 9.2182e-01, 3.3026e-02, 2.0577e-02, 1.3641e-02],\n",
      "         [1.3486e-01, 3.9891e-01, 1.7323e-01, 1.3558e-01, 1.5743e-01]],\n",
      "\n",
      "        [[9.5230e-02, 6.9361e-01, 1.3666e-01, 3.2200e-02, 4.2299e-02],\n",
      "         [9.9348e-01, 4.2882e-03, 5.7098e-04, 9.3647e-04, 7.2147e-04],\n",
      "         [6.5506e-01, 2.9988e-01, 3.4030e-02, 5.5975e-03, 5.4282e-03]]])\n"
     ]
    }
   ],
   "source": [
    "attn_weights = F.softmax(raw_weights, dim=-1)\n",
    "print(\"归一化后的注意力权重：\", attn_weights)"
   ]
  },
  {
   "cell_type": "code",
   "execution_count": 4,
   "id": "68f41f09",
   "metadata": {},
   "outputs": [
    {
     "name": "stdout",
     "output_type": "stream",
     "text": [
      "注意力输出： tensor([[[ 0.3412,  0.6155,  0.1287,  0.7053],\n",
      "         [-0.7102,  1.3166,  2.3360,  1.5406],\n",
      "         [-0.0138,  0.5438,  0.8638,  0.9868]],\n",
      "\n",
      "        [[ 0.7432, -0.5664,  0.5638,  0.2192],\n",
      "         [ 0.1008, -3.2262,  0.3201,  1.1379],\n",
      "         [ 0.3304, -2.2582,  0.4218,  0.8728]]])\n"
     ]
    }
   ],
   "source": [
    "attn_output = torch.bmm(attn_weights, x2)\n",
    "print(\"注意力输出：\", attn_output)"
   ]
  },
  {
   "cell_type": "code",
   "execution_count": null,
   "id": "a14acc03",
   "metadata": {},
   "outputs": [],
   "source": []
  }
 ],
 "metadata": {
  "kernelspec": {
   "display_name": "dev",
   "language": "python",
   "name": "python3"
  },
  "language_info": {
   "codemirror_mode": {
    "name": "ipython",
    "version": 3
   },
   "file_extension": ".py",
   "mimetype": "text/x-python",
   "name": "python",
   "nbconvert_exporter": "python",
   "pygments_lexer": "ipython3",
   "version": "3.10.14"
  }
 },
 "nbformat": 4,
 "nbformat_minor": 5
}
